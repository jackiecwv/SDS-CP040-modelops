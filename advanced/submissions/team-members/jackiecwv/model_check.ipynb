{
 "cells": [
  {
   "cell_type": "markdown",
   "id": "07fb102a",
   "metadata": {},
   "source": [
    "# ModelOps Inspection Report\n",
    "\n",
    "**Project:** Car Price Prediction Service   \n",
    "**Purpose:** Executive summary and technical inspection of the deployed ML model.  \n",
    "**Date:** October 7, 2025"
   ]
  },
  {
   "cell_type": "markdown",
   "id": "428a4242",
   "metadata": {},
   "source": [
    "## Table of Contents\n",
    "1. [Model Overview](#Model-Overview)\n",
    "2. [Pipeline Structure](#Pipeline-Structure)\n",
    "3. [Input & Output Features](#Input-&-Output-Features)\n",
    "4. [Key Hyperparameters](#Key-Hyperparameters)\n",
    "5. [Preprocessing & Engineering](#Preprocessing-&-Engineering)\n",
    "6. [Export Executive Summary (Word)](#Export-Executive-Summary)\n"
   ]
  },
  {
   "cell_type": "markdown",
   "id": "55937135",
   "metadata": {},
   "source": [
    "## Model Overview\n",
    "\n",
    "This notebook inspects a trained car price prediction model intended for cloud API deployment.  \n",
    "The model is a scikit-learn pipeline combining preprocessing and XGBoost regression.\n"
   ]
  },
  {
   "cell_type": "code",
   "execution_count": 1,
   "id": "4ce97722",
   "metadata": {},
   "outputs": [
    {
     "name": "stdout",
     "output_type": "stream",
     "text": [
      "Model loaded successfully.\n"
     ]
    }
   ],
   "source": [
    "import joblib\n",
    "\n",
    "# Load the trained model pipeline\n",
    "model = joblib.load(\"model.pkl\")\n",
    "print(\"Model loaded successfully.\")"
   ]
  },
  {
   "cell_type": "code",
   "execution_count": 2,
   "id": "c9964480",
   "metadata": {},
   "outputs": [
    {
     "name": "stdout",
     "output_type": "stream",
     "text": [
      "Pipeline Steps:\n",
      " - preprocessor: <class 'sklearn.compose._column_transformer.ColumnTransformer'>\n",
      " - model: <class 'xgboost.sklearn.XGBRegressor'>\n"
     ]
    }
   ],
   "source": [
    "# Show the pipeline steps\n",
    "if hasattr(model, \"named_steps\"):\n",
    "    print(\"Pipeline Steps:\")\n",
    "    for name, step in model.named_steps.items():\n",
    "        print(f\" - {name}: {type(step)}\")\n",
    "else:\n",
    "    print(\"This model is not a pipeline.\")\n"
   ]
  },
  {
   "cell_type": "code",
   "execution_count": 3,
   "id": "c7384653",
   "metadata": {},
   "outputs": [
    {
     "name": "stdout",
     "output_type": "stream",
     "text": [
      "Input Features:\n",
      " - Manufacturer\n",
      " - Model\n",
      " - Engine size\n",
      " - Fuel type\n",
      " - Year of manufacture\n",
      " - Mileage\n",
      " - age\n",
      " - mileage_per_year\n",
      " - vintage\n",
      "\n",
      "Target Variable: price (float, GBP)\n"
     ]
    }
   ],
   "source": [
    "# Print input feature names\n",
    "if hasattr(model, \"feature_names_in_\"):\n",
    "    print(\"Input Features:\")\n",
    "    for feat in model.feature_names_in_:\n",
    "        print(\" -\", feat)\n",
    "else:\n",
    "    print(\"Input features not found; check model documentation.\")\n",
    "\n",
    "# Show expected output\n",
    "print(\"\\nTarget Variable: price (float, GBP)\")\n"
   ]
  },
  {
   "cell_type": "code",
   "execution_count": 4,
   "id": "36688cba",
   "metadata": {},
   "outputs": [
    {
     "name": "stdout",
     "output_type": "stream",
     "text": [
      "Selected Hyperparameters:\n",
      " - max_depth: 6\n",
      " - learning_rate: 0.05\n",
      " - n_estimators: 400\n"
     ]
    }
   ],
   "source": [
    "# Display some key hyperparameters if present\n",
    "if hasattr(model, \"named_steps\") and \"model\" in model.named_steps:\n",
    "    estimator = model.named_steps[\"model\"]\n",
    "    params = estimator.get_params()\n",
    "    print(\"Selected Hyperparameters:\")\n",
    "    for key in [\"max_depth\", \"learning_rate\", \"n_estimators\"]:\n",
    "        if key in params:\n",
    "            print(f\" - {key}: {params[key]}\")\n",
    "else:\n",
    "    print(\"Could not find model hyperparameters.\")\n"
   ]
  },
  {
   "cell_type": "markdown",
   "id": "2cedc1d3",
   "metadata": {},
   "source": [
    "## Preprocessing & Feature Engineering\n",
    "\n",
    "_This section describes how the pipeline handles preprocessing and engineered features._\n"
   ]
  },
  {
   "cell_type": "code",
   "execution_count": 5,
   "id": "19846f97",
   "metadata": {},
   "outputs": [
    {
     "name": "stdout",
     "output_type": "stream",
     "text": [
      "Preprocessor details:\n",
      " ColumnTransformer(transformers=[('num', StandardScaler(),\n",
      "                                 ['Engine size', 'Mileage', 'age',\n",
      "                                  'mileage_per_year']),\n",
      "                                ('cat', OneHotEncoder(handle_unknown='ignore'),\n",
      "                                 ['Manufacturer', 'Model', 'Fuel type',\n",
      "                                  'vintage'])])\n"
     ]
    }
   ],
   "source": [
    "# Inspect preprocessor details\n",
    "if hasattr(model, \"named_steps\") and \"preprocessor\" in model.named_steps:\n",
    "    preprocessor = model.named_steps[\"preprocessor\"]\n",
    "    print(\"Preprocessor details:\\n\", preprocessor)\n",
    "else:\n",
    "    print(\"No preprocessor found in pipeline.\")\n"
   ]
  },
  {
   "cell_type": "code",
   "execution_count": 6,
   "id": "f9cf0440",
   "metadata": {},
   "outputs": [
    {
     "name": "stdout",
     "output_type": "stream",
     "text": [
      "Executive summary exported to model_inspection_executive_summary.docx\n"
     ]
    }
   ],
   "source": [
    "# Model Ops Inspection Executive Summary Export\n",
    "\n",
    "from docx import Document\n",
    "from datetime import date\n",
    "\n",
    "doc = Document()\n",
    "doc.add_heading(\"Model Inspection Executive Summary\", 0)\n",
    "doc.add_paragraph(f\"Date: {date.today().isoformat()}\")\n",
    "\n",
    "doc.add_heading(\"Project & Model Overview\", level=1)\n",
    "doc.add_paragraph(\n",
    "    \"This model predicts the sale price of a car (in GBP) based on vehicle characteristics. \"\n",
    "    \"It is intended for use in a production ModelOps API.\"\n",
    ")\n",
    "\n",
    "# Pipeline\n",
    "doc.add_heading(\"Pipeline Steps\", level=1)\n",
    "if hasattr(model, \"named_steps\"):\n",
    "    for step in model.named_steps:\n",
    "        doc.add_paragraph(f\"• {step}\", style=\"List Bullet\")\n",
    "else:\n",
    "    doc.add_paragraph(\"Not a pipeline.\")\n",
    "\n",
    "# Features\n",
    "doc.add_heading(\"Input Features\", level=1)\n",
    "if hasattr(model, \"feature_names_in_\"):\n",
    "    for feat in model.feature_names_in_:\n",
    "        doc.add_paragraph(f\"• {feat}\", style=\"List Bullet\")\n",
    "else:\n",
    "    doc.add_paragraph(\"Not listed; see documentation.\")\n",
    "\n",
    "doc.add_heading(\"Target Variable\", level=1)\n",
    "doc.add_paragraph(\"price (float, GBP)\")\n",
    "\n",
    "# Parameters\n",
    "doc.add_heading(\"Key Hyperparameters\", level=1)\n",
    "if hasattr(model, \"named_steps\") and \"model\" in model.named_steps:\n",
    "    estimator = model.named_steps[\"model\"]\n",
    "    params = estimator.get_params()\n",
    "    for key in [\"max_depth\", \"learning_rate\", \"n_estimators\"]:\n",
    "        if key in params:\n",
    "            doc.add_paragraph(f\"{key}: {params[key]}\", style=\"List Bullet\")\n",
    "else:\n",
    "    doc.add_paragraph(\"No hyperparameters found.\")\n",
    "\n",
    "# Preprocessing notes\n",
    "doc.add_heading(\"Preprocessing Notes\", level=1)\n",
    "doc.add_paragraph(\n",
    "    \"The pipeline handles standard preprocessing (scaling, encoding). \"\n",
    "    \"Confirm if engineered features ('age', etc.) are created internally or need to be provided.\"\n",
    ")\n",
    "\n",
    "doc.add_heading(\"Prediction Output\", level=1)\n",
    "doc.add_paragraph(\"Returns a single car price prediction (float, GBP).\")\n",
    "\n",
    "# Save\n",
    "doc.save(\"model_inspection_executive_summary.docx\")\n",
    "print(\"Executive summary exported to model_inspection_executive_summary.docx\")\n"
   ]
  }
 ],
 "metadata": {
  "kernelspec": {
   "display_name": ".venv",
   "language": "python",
   "name": "python3"
  },
  "language_info": {
   "codemirror_mode": {
    "name": "ipython",
    "version": 3
   },
   "file_extension": ".py",
   "mimetype": "text/x-python",
   "name": "python",
   "nbconvert_exporter": "python",
   "pygments_lexer": "ipython3",
   "version": "3.12.9"
  }
 },
 "nbformat": 4,
 "nbformat_minor": 5
}
